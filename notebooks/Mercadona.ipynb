{
 "cells": [
  {
   "cell_type": "code",
   "execution_count": 1,
   "metadata": {},
   "outputs": [],
   "source": [
    "from selenium import webdriver\n",
    "from selenium.webdriver.common.keys import Keys\n",
    "import bs4\n",
    "import requests\n",
    "import time\n",
    "import pandas as pd\n",
    "\n",
    "from IPython.core.interactiveshell import InteractiveShell\n",
    "InteractiveShell.ast_node_interactivity = \"all\""
   ]
  },
  {
   "cell_type": "code",
   "execution_count": 2,
   "metadata": {},
   "outputs": [],
   "source": [
    "def setting_up_webdriver(driver_path, url, secs):\n",
    "    \"\"\"\n",
    "    \n",
    "    \"\"\"\n",
    "    # Loading webdriver\n",
    "    browser = webdriver.Chrome(driver_path)\n",
    "    browser.get(url)\n",
    "    \n",
    "    # Accepting cookies\n",
    "    try:\n",
    "        btn_cookies = browser.find_element_by_css_selector(\"button.ui-button.ui-button--small.ui-button--primary.ui-button--positive\")\n",
    "        btn_cookies.click()\n",
    "    except:\n",
    "        pass\n",
    "    time.sleep(secs)\n",
    "    \n",
    "    # Adding postal code\n",
    "    pst = browser.find_element_by_name(\"postalCode\")\n",
    "    btn = browser.find_element_by_css_selector(\"button.button.button-primary.button-big\")\n",
    "    pst.send_keys(\"28004\")\n",
    "    btn.click()\n",
    "    time.sleep(secs)\n",
    "    \n",
    "    return browser"
   ]
  },
  {
   "cell_type": "code",
   "execution_count": 3,
   "metadata": {},
   "outputs": [],
   "source": [
    "def make_categories_list(root_url, start, end):\n",
    "    \"\"\"\n",
    "    \n",
    "    \"\"\"\n",
    "    return [root_url + str(x) for x in range(start, end+1)]"
   ]
  },
  {
   "cell_type": "code",
   "execution_count": 4,
   "metadata": {},
   "outputs": [],
   "source": [
    "def get_html(webdriver):\n",
    "    \"\"\"\n",
    "    Given a webdriver object, return its full raw html in a BeautifulSoup object\n",
    "    \n",
    "    Parameters:\n",
    "        webdriver: Selenium webdriver object\n",
    "        \n",
    "    Returns:\n",
    "        BeautifulSoup object\n",
    "    \"\"\"\n",
    "    html = webdriver.page_source\n",
    "    soup = bs4.BeautifulSoup(html)\n",
    "    return soup"
   ]
  },
  {
   "cell_type": "code",
   "execution_count": 5,
   "metadata": {},
   "outputs": [],
   "source": [
    "def parse_product(category, subcategory, prod):\n",
    "    \"\"\"\n",
    "    Parse a Beautiful Soup product button returning the item's features \n",
    "    \n",
    "    Parameters:\n",
    "        Category: String. Category\n",
    "        subcategory: String. Subcategory\n",
    "        prod: Beautiful Soup object to parse\n",
    "        \n",
    "    Returns:\n",
    "        Parsed data in a list. E.g.:\n",
    "        ['Aceite, vinagre y sal', 'Aceite de oliva', 'Aceite de oliva 0,4º Hacendado', 'Garrafa 5 L','10,60 €', \n",
    "        'https://prod-mercadona.imgix.net/images/236a405e60648cf189d4a4b3a3403983.jpg?fit=crop&h=300&w=300']\n",
    "    \n",
    "    \"\"\"\n",
    "    img_link = prod.img[\"src\"]\n",
    "    name = prod.h4.text\n",
    "    specs = prod.find_all(\"span\", attrs={\"class\": \"footnote1-r\"})\n",
    "    specs = \"\".join([spec.text for spec in specs])\n",
    "    price = prod.find(\"div\", attrs={\"class\": \"product-price\"}).p.text\n",
    "    \n",
    "    return [category, subcategory, name, specs, price, img_link]"
   ]
  },
  {
   "cell_type": "code",
   "execution_count": 6,
   "metadata": {},
   "outputs": [],
   "source": [
    "def get_raw_data(soup):\n",
    "    \"\"\"\n",
    "    \n",
    "    \"\"\"\n",
    "    # Fetch main category.\n",
    "    category = soup.find(\"div\", attrs={\"class\": \"category-detail__name\"}).h3.text\n",
    "    \n",
    "    # Fetch subcategories.\n",
    "    sections = soup.find_all(\"section\", attrs={\"class\": \"section\"})\n",
    "    \n",
    "    # Fetch every product and its features.\n",
    "    results = []\n",
    "    for section in sections:\n",
    "        name = section.h3.text\n",
    "        products = section.find_all(\"button\", attrs={\"class\": \"product-cell__content-link\"})\n",
    "        section_results = [parse_product(category=category, subcategory=name, prod=product) for product in products]\n",
    "        results.extend(section_results)\n",
    "    \n",
    "    return results"
   ]
  },
  {
   "cell_type": "code",
   "execution_count": 7,
   "metadata": {},
   "outputs": [],
   "source": [
    "def products2pandas(products_list):\n",
    "    \"\"\"\n",
    "    \n",
    "    \"\"\"\n",
    "    cols = [\"Category\", \"Subcategory\", \"Product\", \"Specs\", \"Price\", \"img_link\"]\n",
    "    df = pd.DataFrame(data=products_list, columns=cols)\n",
    "    return df"
   ]
  },
  {
   "cell_type": "code",
   "execution_count": 8,
   "metadata": {},
   "outputs": [],
   "source": [
    "def get_category_page(webdriver, link, secs):\n",
    "    \"\"\"\n",
    "    \n",
    "    \"\"\"\n",
    "    webdriver.get(link)\n",
    "    time.sleep(secs)\n",
    "    if link[-3:] == webdriver.current_url[-3:]:\n",
    "        return webdriver\n",
    "    else:\n",
    "        return None"
   ]
  },
  {
   "cell_type": "code",
   "execution_count": 9,
   "metadata": {},
   "outputs": [],
   "source": [
    "def main(start_page, end_page):\n",
    "    \"\"\"\n",
    "    \n",
    "    \"\"\"\n",
    "    driver = \"../bin/chromedriver\"\n",
    "    url = \"https://tienda.mercadona.es/\"\n",
    "    categories_url = \"https://tienda.mercadona.es/categories/\"\n",
    "    \n",
    "    browser = setting_up_webdriver(driver, url, 2)\n",
    "    ctgry_list = make_categories_list(categories_url, start_page, end_page)\n",
    "    \n",
    "    final_results, not_found = [], []\n",
    "    for link in ctgry_list:\n",
    "        current_page = get_category_page(browser, link, 2)\n",
    "        if current_page is not None: \n",
    "            soup = get_html(current_page)\n",
    "            results = get_raw_data(soup)\n",
    "            final_results.extend(results)\n",
    "        else:\n",
    "            not_found.append(link)\n",
    "    \n",
    "    browser.close()\n",
    "    browser.quit()\n",
    "    \n",
    "    df = products2pandas(final_results)\n",
    "    return df"
   ]
  },
  {
   "cell_type": "code",
   "execution_count": 10,
   "metadata": {},
   "outputs": [
    {
     "ename": "AttributeError",
     "evalue": "'NoneType' object has no attribute 'text'",
     "output_type": "error",
     "traceback": [
      "\u001b[0;31m---------------------------------------------------------------------------\u001b[0m",
      "\u001b[0;31mAttributeError\u001b[0m                            Traceback (most recent call last)",
      "\u001b[0;32m<ipython-input-10-930c6e1d1f78>\u001b[0m in \u001b[0;36m<module>\u001b[0;34m\u001b[0m\n\u001b[0;32m----> 1\u001b[0;31m \u001b[0mdf\u001b[0m \u001b[0;34m=\u001b[0m \u001b[0mmain\u001b[0m\u001b[0;34m(\u001b[0m\u001b[0;36m1\u001b[0m\u001b[0;34m,\u001b[0m \u001b[0;36m300\u001b[0m\u001b[0;34m)\u001b[0m\u001b[0;34m\u001b[0m\u001b[0;34m\u001b[0m\u001b[0m\n\u001b[0m\u001b[1;32m      2\u001b[0m \u001b[0mdf\u001b[0m \u001b[0;31m# page 31 does not work\u001b[0m\u001b[0;34m\u001b[0m\u001b[0;34m\u001b[0m\u001b[0m\n",
      "\u001b[0;32m<ipython-input-9-70a21f96a072>\u001b[0m in \u001b[0;36mmain\u001b[0;34m(start_page, end_page)\u001b[0m\n\u001b[1;32m     15\u001b[0m         \u001b[0;32mif\u001b[0m \u001b[0mcurrent_page\u001b[0m \u001b[0;32mis\u001b[0m \u001b[0;32mnot\u001b[0m \u001b[0;32mNone\u001b[0m\u001b[0;34m:\u001b[0m\u001b[0;34m\u001b[0m\u001b[0;34m\u001b[0m\u001b[0m\n\u001b[1;32m     16\u001b[0m             \u001b[0msoup\u001b[0m \u001b[0;34m=\u001b[0m \u001b[0mget_html\u001b[0m\u001b[0;34m(\u001b[0m\u001b[0mcurrent_page\u001b[0m\u001b[0;34m)\u001b[0m\u001b[0;34m\u001b[0m\u001b[0;34m\u001b[0m\u001b[0m\n\u001b[0;32m---> 17\u001b[0;31m             \u001b[0mresults\u001b[0m \u001b[0;34m=\u001b[0m \u001b[0mget_raw_data\u001b[0m\u001b[0;34m(\u001b[0m\u001b[0msoup\u001b[0m\u001b[0;34m)\u001b[0m\u001b[0;34m\u001b[0m\u001b[0;34m\u001b[0m\u001b[0m\n\u001b[0m\u001b[1;32m     18\u001b[0m             \u001b[0mfinal_results\u001b[0m\u001b[0;34m.\u001b[0m\u001b[0mextend\u001b[0m\u001b[0;34m(\u001b[0m\u001b[0mresults\u001b[0m\u001b[0;34m)\u001b[0m\u001b[0;34m\u001b[0m\u001b[0;34m\u001b[0m\u001b[0m\n\u001b[1;32m     19\u001b[0m         \u001b[0;32melse\u001b[0m\u001b[0;34m:\u001b[0m\u001b[0;34m\u001b[0m\u001b[0;34m\u001b[0m\u001b[0m\n",
      "\u001b[0;32m<ipython-input-6-2916e29f5cc7>\u001b[0m in \u001b[0;36mget_raw_data\u001b[0;34m(soup)\u001b[0m\n\u001b[1;32m     12\u001b[0m     \u001b[0mresults\u001b[0m \u001b[0;34m=\u001b[0m \u001b[0;34m[\u001b[0m\u001b[0;34m]\u001b[0m\u001b[0;34m\u001b[0m\u001b[0;34m\u001b[0m\u001b[0m\n\u001b[1;32m     13\u001b[0m     \u001b[0;32mfor\u001b[0m \u001b[0msection\u001b[0m \u001b[0;32min\u001b[0m \u001b[0msections\u001b[0m\u001b[0;34m:\u001b[0m\u001b[0;34m\u001b[0m\u001b[0;34m\u001b[0m\u001b[0m\n\u001b[0;32m---> 14\u001b[0;31m         \u001b[0mname\u001b[0m \u001b[0;34m=\u001b[0m \u001b[0msection\u001b[0m\u001b[0;34m.\u001b[0m\u001b[0mh3\u001b[0m\u001b[0;34m.\u001b[0m\u001b[0mtext\u001b[0m\u001b[0;34m\u001b[0m\u001b[0;34m\u001b[0m\u001b[0m\n\u001b[0m\u001b[1;32m     15\u001b[0m         \u001b[0mproducts\u001b[0m \u001b[0;34m=\u001b[0m \u001b[0msection\u001b[0m\u001b[0;34m.\u001b[0m\u001b[0mfind_all\u001b[0m\u001b[0;34m(\u001b[0m\u001b[0;34m\"button\"\u001b[0m\u001b[0;34m,\u001b[0m \u001b[0mattrs\u001b[0m\u001b[0;34m=\u001b[0m\u001b[0;34m{\u001b[0m\u001b[0;34m\"class\"\u001b[0m\u001b[0;34m:\u001b[0m \u001b[0;34m\"product-cell__content-link\"\u001b[0m\u001b[0;34m}\u001b[0m\u001b[0;34m)\u001b[0m\u001b[0;34m\u001b[0m\u001b[0;34m\u001b[0m\u001b[0m\n\u001b[1;32m     16\u001b[0m         \u001b[0msection_results\u001b[0m \u001b[0;34m=\u001b[0m \u001b[0;34m[\u001b[0m\u001b[0mparse_product\u001b[0m\u001b[0;34m(\u001b[0m\u001b[0mcategory\u001b[0m\u001b[0;34m=\u001b[0m\u001b[0mcategory\u001b[0m\u001b[0;34m,\u001b[0m \u001b[0msubcategory\u001b[0m\u001b[0;34m=\u001b[0m\u001b[0mname\u001b[0m\u001b[0;34m,\u001b[0m \u001b[0mprod\u001b[0m\u001b[0;34m=\u001b[0m\u001b[0mproduct\u001b[0m\u001b[0;34m)\u001b[0m \u001b[0;32mfor\u001b[0m \u001b[0mproduct\u001b[0m \u001b[0;32min\u001b[0m \u001b[0mproducts\u001b[0m\u001b[0;34m]\u001b[0m\u001b[0;34m\u001b[0m\u001b[0;34m\u001b[0m\u001b[0m\n",
      "\u001b[0;31mAttributeError\u001b[0m: 'NoneType' object has no attribute 'text'"
     ]
    }
   ],
   "source": [
    "df = main(1, 300)\n",
    "df # page 31 does not work\n",
    "# Explicit wait https://www.youtube.com/watch?v=sv0fKrzEOKQ"
   ]
  },
  {
   "cell_type": "code",
   "execution_count": null,
   "metadata": {},
   "outputs": [],
   "source": []
  },
  {
   "cell_type": "code",
   "execution_count": null,
   "metadata": {},
   "outputs": [],
   "source": []
  },
  {
   "cell_type": "code",
   "execution_count": null,
   "metadata": {},
   "outputs": [],
   "source": []
  },
  {
   "cell_type": "code",
   "execution_count": null,
   "metadata": {},
   "outputs": [],
   "source": []
  },
  {
   "cell_type": "code",
   "execution_count": null,
   "metadata": {},
   "outputs": [],
   "source": []
  },
  {
   "cell_type": "code",
   "execution_count": null,
   "metadata": {},
   "outputs": [],
   "source": []
  },
  {
   "cell_type": "code",
   "execution_count": null,
   "metadata": {},
   "outputs": [],
   "source": [
    "browser = setting_up_webdriver(driver, url, 1)\n",
    "ctgry_list = make_categories_list(\"https://tienda.mercadona.es/categories/\", 111, 114)\n",
    "ctgry_list"
   ]
  },
  {
   "cell_type": "code",
   "execution_count": null,
   "metadata": {},
   "outputs": [],
   "source": [
    "final_results = []\n",
    "not_found = []\n",
    "for link in ctgry_list:\n",
    "    current_page = get_category_page(browser, link, 1)\n",
    "    if current_page is not None: \n",
    "        soup = get_html(current_page)\n",
    "        results = get_raw_data(soup)\n",
    "        final_results.extend(results)\n",
    "    else:\n",
    "        not_found.append(link)"
   ]
  },
  {
   "cell_type": "code",
   "execution_count": null,
   "metadata": {},
   "outputs": [],
   "source": [
    "df = products2pandas(final_results)\n",
    "df"
   ]
  },
  {
   "cell_type": "code",
   "execution_count": null,
   "metadata": {},
   "outputs": [],
   "source": [
    "not_found"
   ]
  },
  {
   "cell_type": "code",
   "execution_count": null,
   "metadata": {},
   "outputs": [],
   "source": []
  },
  {
   "cell_type": "code",
   "execution_count": null,
   "metadata": {},
   "outputs": [],
   "source": [
    "browser.close()\n",
    "browser.quit()"
   ]
  },
  {
   "cell_type": "code",
   "execution_count": null,
   "metadata": {},
   "outputs": [],
   "source": []
  },
  {
   "cell_type": "code",
   "execution_count": null,
   "metadata": {},
   "outputs": [],
   "source": []
  },
  {
   "cell_type": "code",
   "execution_count": null,
   "metadata": {},
   "outputs": [],
   "source": []
  },
  {
   "cell_type": "code",
   "execution_count": null,
   "metadata": {},
   "outputs": [],
   "source": [
    "soup = get_html(browser)\n",
    "results = get_raw_data(soup)"
   ]
  },
  {
   "cell_type": "code",
   "execution_count": null,
   "metadata": {},
   "outputs": [],
   "source": [
    "results"
   ]
  },
  {
   "cell_type": "code",
   "execution_count": null,
   "metadata": {},
   "outputs": [],
   "source": [
    "url = \"https://tienda.mercadona.es/categories/112\"\n",
    "browser.get(url)"
   ]
  },
  {
   "cell_type": "code",
   "execution_count": null,
   "metadata": {},
   "outputs": [],
   "source": [
    "browser.current_url"
   ]
  },
  {
   "cell_type": "code",
   "execution_count": null,
   "metadata": {},
   "outputs": [],
   "source": []
  },
  {
   "cell_type": "code",
   "execution_count": null,
   "metadata": {},
   "outputs": [],
   "source": [
    "category = soup.find(\"div\", attrs={\"class\": \"category-detail__name\"}).h3.text\n",
    "category"
   ]
  },
  {
   "cell_type": "code",
   "execution_count": null,
   "metadata": {},
   "outputs": [],
   "source": [
    "sections = soup.find_all(\"section\", attrs={\"class\": \"section\"})\n",
    "len(sections)"
   ]
  },
  {
   "cell_type": "code",
   "execution_count": null,
   "metadata": {},
   "outputs": [],
   "source": [
    "results = []\n",
    "for section in sections:\n",
    "    name = section.h3.text\n",
    "    products = section.find_all(\"button\", attrs={\"class\": \"product-cell__content-link\"})\n",
    "    section_results = [parse_product(category=category, subcategory=name, prod=product) for product in products]\n",
    "    results.extend(section_results)"
   ]
  },
  {
   "cell_type": "code",
   "execution_count": null,
   "metadata": {},
   "outputs": [],
   "source": [
    "results"
   ]
  },
  {
   "cell_type": "code",
   "execution_count": null,
   "metadata": {},
   "outputs": [],
   "source": []
  },
  {
   "cell_type": "code",
   "execution_count": null,
   "metadata": {},
   "outputs": [],
   "source": []
  },
  {
   "cell_type": "code",
   "execution_count": null,
   "metadata": {},
   "outputs": [],
   "source": [
    "sections[0].h3.text"
   ]
  },
  {
   "cell_type": "code",
   "execution_count": null,
   "metadata": {},
   "outputs": [],
   "source": [
    "products = sections[0].find_all(\"button\", attrs={\"class\": \"product-cell__content-link\"})"
   ]
  },
  {
   "cell_type": "code",
   "execution_count": null,
   "metadata": {},
   "outputs": [],
   "source": [
    "products[0]"
   ]
  },
  {
   "cell_type": "code",
   "execution_count": null,
   "metadata": {},
   "outputs": [],
   "source": [
    "products[0].img[\"src\"]\n",
    "products[0].h4.text\n",
    "specs = products[0].find_all(\"span\", attrs={\"class\": \"footnote1-r\"})\n",
    "specs = \"\".join([spec.text for spec in specs])\n",
    "specs\n",
    "price = products[0].find(\"div\", attrs={\"class\": \"product-price\"}).p.text\n",
    "price"
   ]
  }
 ],
 "metadata": {
  "kernelspec": {
   "display_name": "Python [conda env:labs_env]",
   "language": "python",
   "name": "conda-env-labs_env-py"
  },
  "language_info": {
   "codemirror_mode": {
    "name": "ipython",
    "version": 3
   },
   "file_extension": ".py",
   "mimetype": "text/x-python",
   "name": "python",
   "nbconvert_exporter": "python",
   "pygments_lexer": "ipython3",
   "version": "3.7.5"
  }
 },
 "nbformat": 4,
 "nbformat_minor": 2
}
